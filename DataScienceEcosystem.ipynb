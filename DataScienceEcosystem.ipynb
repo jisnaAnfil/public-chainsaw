{
 "cells": [
  {
   "cell_type": "markdown",
   "id": "8af21b54",
   "metadata": {},
   "source": [
    "# Data Science Tools and Ecosystem"
   ]
  },
  {
   "cell_type": "markdown",
   "id": "4b05053c",
   "metadata": {},
   "source": [
    "In this notebook, Data Science Tools and Ecosystem are summarized."
   ]
  },
  {
   "cell_type": "markdown",
   "id": "9b4085a3",
   "metadata": {},
   "source": [
    "**Objectives**:\n",
    "\n",
    "        -List popular languages for Data Science\n",
    "        -List libraries used by data scientists\n",
    "        -List data science tools\n",
    "        -List examples of arithmetic expressions"
   ]
  },
  {
   "cell_type": "markdown",
   "id": "d29e7ab0",
   "metadata": {},
   "source": [
    "Some of the popular languages that Data Scientists use are:\n",
    "    \n",
    "    1.Python\n",
    "    2.R\n",
    "    3.SQL\n"
   ]
  },
  {
   "cell_type": "markdown",
   "id": "291460f1",
   "metadata": {},
   "source": [
    "Some of the commonly used libraries used by Data Scientists include:\n",
    "\n",
    "    1.Pandas\n",
    "    2.Matplotlib\n",
    "    3.Numpy"
   ]
  },
  {
   "cell_type": "markdown",
   "id": "25ff364d",
   "metadata": {},
   "source": [
    "\n",
    "|Data Science Tools|\n",
    "|-----------|\n",
    "|R studio|\n",
    "|Apache Spark|\n",
    "|Tensorflow|"
   ]
  },
  {
   "cell_type": "markdown",
   "id": "da926c74",
   "metadata": {},
   "source": [
    "### Below are a few examples of evaluating arithmetic expressions in Python"
   ]
  },
  {
   "cell_type": "code",
   "execution_count": 2,
   "id": "0271da59",
   "metadata": {},
   "outputs": [
    {
     "data": {
      "text/plain": [
       "17"
      ]
     },
     "execution_count": 2,
     "metadata": {},
     "output_type": "execute_result"
    }
   ],
   "source": [
    "# This a simple arithmetic expression to mutiply then add integers\n",
    "(3*4)+5"
   ]
  },
  {
   "cell_type": "code",
   "execution_count": 3,
   "id": "740287c6",
   "metadata": {},
   "outputs": [
    {
     "data": {
      "text/plain": [
       "3.3333333333333335"
      ]
     },
     "execution_count": 3,
     "metadata": {},
     "output_type": "execute_result"
    }
   ],
   "source": [
    "# This will convert 200 minutes to hours by diving by 60\n",
    "200/60"
   ]
  },
  {
   "cell_type": "markdown",
   "id": "5f9f455a",
   "metadata": {},
   "source": [
    "## Author\n",
    "Jisna Hameed"
   ]
  },
  {
   "cell_type": "code",
   "execution_count": null,
   "id": "8e6d5ece",
   "metadata": {},
   "outputs": [],
   "source": []
  }
 ],
 "metadata": {
  "kernelspec": {
   "display_name": "Python 3 (ipykernel)",
   "language": "python",
   "name": "python3"
  },
  "language_info": {
   "codemirror_mode": {
    "name": "ipython",
    "version": 3
   },
   "file_extension": ".py",
   "mimetype": "text/x-python",
   "name": "python",
   "nbconvert_exporter": "python",
   "pygments_lexer": "ipython3",
   "version": "3.9.7"
  }
 },
 "nbformat": 4,
 "nbformat_minor": 5
}
